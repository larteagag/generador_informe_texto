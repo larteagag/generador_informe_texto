{
  "nbformat": 4,
  "nbformat_minor": 0,
  "metadata": {
    "colab": {
      "provenance": [],
      "authorship_tag": "ABX9TyOQ3Ef31/8NXtXxeRWsLOiI",
      "include_colab_link": true
    },
    "kernelspec": {
      "name": "python3",
      "display_name": "Python 3"
    },
    "language_info": {
      "name": "python"
    }
  },
  "cells": [
    {
      "cell_type": "markdown",
      "metadata": {
        "id": "view-in-github",
        "colab_type": "text"
      },
      "source": [
        "<a href=\"https://colab.research.google.com/github/larteagag/generador_informe_texto/blob/main/Generador_reporte.ipynb\" target=\"_parent\"><img src=\"https://colab.research.google.com/assets/colab-badge.svg\" alt=\"Open In Colab\"/></a>"
      ]
    },
    {
      "cell_type": "markdown",
      "source": [
        "## **Sistema generador de texto para reportar a Sistemas**"
      ],
      "metadata": {
        "id": "vpK8cwXFf25k"
      }
    },
    {
      "cell_type": "markdown",
      "source": [
        "<font color = 'firebrick'> **Situación**: </font> Esporádicamente suelen haber errores al procesar pagos y los mismos no ingresan al sistema a pesar de sí haberse cobrado en la tarjeta de los clientes.\n",
        "\n",
        "Los colaboradores deben pedir mediante un ticket a sistemas que se corrija el error.\n",
        "Al ser una situación esporádica y estar atendiendo en simultáneo, se les complica hacer el reporte o se olvidan de como hacerlo, que datos necesitan escribir, etc.\n",
        "\n",
        "<font color = '#339966' > **Solución:** </font> Automatizar la generación del reporte, a través de un programa que te solicita los datos necesarios y te genera un texto para ponerlo en el ticket a Sistemas.\n",
        "\n",
        "<font color = '##3399CC' > **Beneficios:** </font> \n",
        "- Menor esfuerzo del colaborador. \n",
        "- Evita reportar con información faltante, errónea.\n",
        "- Menor tiempo en crear un reporte. \n",
        "\n",
        "En resumen, **eficiencia y eficacia.**\n",
        "        "
      ],
      "metadata": {
        "id": "4IMmHFTtWtNI"
      }
    },
    {
      "cell_type": "markdown",
      "source": [
        "**Generador de texto:** Reporte para cambio de forma de pago"
      ],
      "metadata": {
        "id": "B71nwElST0HV"
      }
    },
    {
      "cell_type": "code",
      "source": [
        "from datetime import datetime as dt\n",
        "\n",
        "# Horario\n",
        "\n",
        "b_d = 'Buenos días, '\n",
        "b_t = 'Buenas tardes, '\n",
        "b_n = 'Buenas noches, '\n",
        "\n",
        "# Datos a ingresar\n",
        "\n",
        "num_boleta = input('Ingresa el nro de boleta: ')\n",
        "monto = input('Monto: ')\n",
        "terminal = input('Nro. de terminal: ')\n",
        "lote = input('Nro. de lote: ')\n",
        "ref = input('Ingrese ref. de la tarjeta (1eros 3 dígitos): ')\n",
        "medio_pago = input('Medio de pago: ')\n",
        "\n",
        "# Texto a generar\n",
        "texto_generado = f\"\"\"\\n\\nBuenas tardes. Se solicita cambiar el medio de pago de la boleta nro. {num_boleta} con el importe de {monto} que fue cancelado con efectivo, ya que se cobró por Izipay pero no ingresó en RMS.  \n",
        "Esto sucedió en:\\n\n",
        "- Terminal: {terminal}\n",
        "- Lote: {lote}\n",
        "- Ref: {ref}\n",
        "- Medio de pago: {medio_pago}\n",
        "  Se adjuntan comprobantes del mismo. Gracias! \"\"\" \n",
        "\n",
        "print(texto_generado)\n",
        "print('\\n\\nCopiar y pegar este texto en el ticket a sistemas.') \n",
        "\n"
      ],
      "metadata": {
        "colab": {
          "base_uri": "https://localhost:8080/"
        },
        "id": "lJVf9ORLUTdI",
        "outputId": "6339ae83-1082-4687-a58e-de2d1442f084"
      },
      "execution_count": null,
      "outputs": [
        {
          "output_type": "stream",
          "name": "stdout",
          "text": [
            "Ingresa el nro de boleta: B395-1212\n",
            "Monto: 60.10\n",
            "Nro. de terminal: 5678\n",
            "Nro. de lote: 1515\n",
            "Ingrese ref. de la tarjeta (1eros 3 dígitos): 378\n",
            "Medio de pago: Mastercard\n",
            "\n",
            "\n",
            "Buenas tardes. Se solicita cambiar el medio de pago de la boleta nro. B395-1212 con el importe de 60.10 que fue cancelado con efectivo, ya que se cobró por Izipay pero no ingresó en RMS.  \n",
            "Esto sucedió en:\n",
            "\n",
            "- Terminal: 5678\n",
            "- Lote: 1515\n",
            "- Ref: 378\n",
            "- Medio de pago: Mastercard\n",
            "  Se adjuntan comprobantes del mismo. Gracias! \n",
            "\n",
            "\n",
            "Copiar y pegar este texto en el ticket a sistemas.\n"
          ]
        }
      ]
    },
    {
      "cell_type": "markdown",
      "source": [
        "Personalizando el mensaje de 'Buenos dias, tardes o noches' según la hora actual."
      ],
      "metadata": {
        "id": "2VkJxbUDgGDa"
      }
    },
    {
      "cell_type": "code",
      "source": [
        "import pytz\n",
        "# Sacando la hora actual de Perú\n",
        "peru_timezone = pytz.timezone('America/Lima')\n",
        "fecha_peru = dt.now(peru_timezone)\n",
        "#Extrayendo solo la horas, minutos y segundos. \n",
        "hora_peru = fecha_peru.strftime('%H:%M:%S')\n",
        "\n",
        "#Convirtiendolo a time format\n",
        "hora_peru_formato = dt.strptime(hora_peru, '%H:%M:%S').time()\n",
        "print(hora_peru_formato)\n",
        "\n",
        "# Variables\n",
        "buenos_dias = dt.strptime(\"00:00:00\", \"%X\").time()\n",
        "buenas_tardes = dt.strptime(\"12:00:00\", \"%X\").time()\n",
        "buenas_noches = dt.strptime(\"18:00:00\", \"%X\").time()\n",
        "\n",
        "# Condicionales (if statement)\n",
        "if hora_peru_formato >= buenos_dias and hora_peru_formato < buenas_tardes:\n",
        "  print('Buenos dias')\n",
        "elif hora_peru_formato >= buenas_tardes and hora_peru_formato < buenas_noches:\n",
        "  print('Buenas tardes')\n",
        "else:\n",
        "  print('Buenas noches')"
      ],
      "metadata": {
        "colab": {
          "base_uri": "https://localhost:8080/"
        },
        "id": "sJCtuoGbaoSR",
        "outputId": "299d0201-c1b5-48f6-cfef-710113da2cb2"
      },
      "execution_count": 48,
      "outputs": [
        {
          "output_type": "stream",
          "name": "stdout",
          "text": [
            "12:32:33\n",
            "Buenas tardes\n"
          ]
        }
      ]
    },
    {
      "cell_type": "code",
      "source": [],
      "metadata": {
        "id": "iyPOrjyadYla"
      },
      "execution_count": null,
      "outputs": []
    }
  ]
}
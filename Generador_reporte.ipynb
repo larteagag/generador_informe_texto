{
  "nbformat": 4,
  "nbformat_minor": 0,
  "metadata": {
    "colab": {
      "provenance": [],
      "authorship_tag": "ABX9TyMXNtvvxjBJTuaP7a+Km5s4",
      "include_colab_link": true
    },
    "kernelspec": {
      "name": "python3",
      "display_name": "Python 3"
    },
    "language_info": {
      "name": "python"
    }
  },
  "cells": [
    {
      "cell_type": "markdown",
      "metadata": {
        "id": "view-in-github",
        "colab_type": "text"
      },
      "source": [
        "<a href=\"https://colab.research.google.com/github/larteagag/generador_informe_texto/blob/main/Generador_reporte.ipynb\" target=\"_parent\"><img src=\"https://colab.research.google.com/assets/colab-badge.svg\" alt=\"Open In Colab\"/></a>"
      ]
    },
    {
      "cell_type": "markdown",
      "source": [
        "## **Sistema generador de texto para reportar a Sistemas**"
      ],
      "metadata": {
        "id": "vpK8cwXFf25k"
      }
    },
    {
      "cell_type": "markdown",
      "source": [
        "<font color = 'firebrick'> **Situación**: </font> Esporádicamente suelen haber errores al procesar pagos y los mismos no ingresan al sistema a pesar de sí haberse cobrado en la tarjeta de los clientes.\n",
        "\n",
        "Los colaboradores deben pedir mediante un ticket a sistemas que se corrija el error.\n",
        "Al ser una situación esporádica y estar atendiendo en simultáneo, se les complica hacer el reporte o se olvidan de como hacerlo, que datos necesitan escribir, etc.\n",
        "\n",
        "<font color = '#339966' > **Solución:** </font> Automatizar la generación del reporte, a través de un programa que te solicita los datos necesarios y te genera un texto para ponerlo en el ticket a Sistemas.\n",
        "\n",
        "<font color = '##3399CC' > **Beneficios:** </font> \n",
        "- Menor esfuerzo del colaborador. \n",
        "- Evita reportar con información faltante, errónea.\n",
        "- Menor tiempo en crear un reporte. \n",
        "\n",
        "En resumen, **eficiencia y eficacia.**\n",
        "        "
      ],
      "metadata": {
        "id": "4IMmHFTtWtNI"
      }
    },
    {
      "cell_type": "markdown",
      "source": [
        "**Generador de texto:** Reporte para cambio de forma de pago"
      ],
      "metadata": {
        "id": "B71nwElST0HV"
      }
    },
    {
      "cell_type": "code",
      "source": [
        "# Datos a ingresar\n",
        "\n",
        "num_boleta = input('Ingresa el nro de boleta: ')\n",
        "monto = input('Monto: ')\n",
        "terminal = input('Nro. de terminal: ')\n",
        "lote = input('Nro. de lote: ')\n",
        "ref = input('Ingrese ref. de la tarjeta (1eros 3 dígitos): ')\n",
        "medio_pago = input('Medio de pago: ')\n",
        "\n",
        "# Texto a generar\n",
        "texto_generado = f\"\"\"\\n\\nBuenas tardes. Se solicita cambiar el medio de pago de la boleta nro. {num_boleta} con el importe de {monto} que fue cancelado con efectivo, ya que se cobró por Izipay pero no ingresó en RMS.  \n",
        "Esto sucedió en:\\n\n",
        "- Terminal: {terminal}\n",
        "- Lote: {lote}\n",
        "- Ref: {ref}\n",
        "- Medio de pago: {medio_pago}\n",
        "  Se adjuntan comprobantes del mismo. Gracias! \"\"\" \n",
        "\n",
        "print(texto_generado)\n",
        "print('\\n\\nCopiar y pegar este texto en el ticket a sistemas.') \n",
        "\n"
      ],
      "metadata": {
        "id": "lJVf9ORLUTdI"
      },
      "execution_count": null,
      "outputs": []
    },
    {
      "cell_type": "markdown",
      "source": [
        "## <font color ='Firebrick'> Personalizando  </font> el saludo (mensaje de 'Buenos dias, tardes o noches') según la hora actual.\n",
        "\n",
        "> Modulo datetime y pytz.\n",
        "\n"
      ],
      "metadata": {
        "id": "2VkJxbUDgGDa"
      }
    },
    {
      "cell_type": "code",
      "source": [
        "from datetime import datetime as dt\n",
        "import pytz\n",
        "# Sacando la hora actual de Perú\n",
        "peru_timezone = pytz.timezone('America/Lima')\n",
        "fecha_peru = dt.now(peru_timezone)\n",
        "#Extrayendo solo la horas, minutos y segundos. \n",
        "hora_peru = fecha_peru.strftime('%H:%M:%S')\n",
        "\n",
        "#Convirtiendolo a time format\n",
        "hora_peru_formato = dt.strptime(hora_peru, '%H:%M:%S').time()\n",
        "print(f'Hora actual: {hora_peru_formato}')\n",
        "\n",
        "# Variables\n",
        "buenos_dias = dt.strptime(\"00:00:00\", \"%X\").time()\n",
        "buenas_tardes = dt.strptime(\"12:00:00\", \"%X\").time()\n",
        "buenas_noches = dt.strptime(\"18:00:00\", \"%X\").time()\n",
        "#mensaje = ''\n",
        "\n",
        "# Condicionales (if statement)\n",
        "if hora_peru_formato >= buenos_dias and hora_peru_formato < buenas_tardes:\n",
        "  mensaje='Buenos días'\n",
        "elif hora_peru_formato >= buenas_tardes and hora_peru_formato < buenas_noches:\n",
        "  mensaje='Buenas tardes'\n",
        "else:\n",
        "  mensaje='Buenas noches'\n",
        "\n",
        "\n",
        "# Datos a ingresar\n",
        "\n",
        "num_boleta = input('Ingresa el nro de boleta: ')\n",
        "monto = input('Monto: ')\n",
        "terminal = input('Nro. de terminal: ')\n",
        "lote = input('Nro. de lote: ')\n",
        "ref = input('Ingrese ref. de la tarjeta (1eros 3 dígitos): ')\n",
        "medio_pago = input('Medio de pago: ')\n",
        "\n",
        "# Texto a generar\n",
        "texto_generado = f\"\"\"\\n\\n{mensaje}. Se solicita cambiar el medio de pago de la boleta nro. {num_boleta} con el importe de {monto} que fue cancelado con efectivo, ya que se cobró por Izipay pero no ingresó en RMS.  \n",
        "Esto sucedió en:\\n\n",
        "- Terminal: {terminal}\n",
        "- Lote: {lote}\n",
        "- Ref: {ref}\n",
        "- Medio de pago: {medio_pago}\n",
        "  Se adjuntan comprobantes del mismo. Gracias! \"\"\" \n",
        "\n",
        "print(texto_generado)\n",
        "print('\\n\\nCopiar y pegar este texto en el ticket a sistemas.') \n"
      ],
      "metadata": {
        "colab": {
          "base_uri": "https://localhost:8080/"
        },
        "id": "sJCtuoGbaoSR",
        "outputId": "f3bec366-6d86-4c89-9bc4-46e34b1c7c63"
      },
      "execution_count": 14,
      "outputs": [
        {
          "output_type": "stream",
          "name": "stdout",
          "text": [
            "Hora actual: 11:23:45\n",
            "Ingresa el nro de boleta: B395-1221221\n",
            "Monto: 58.2\n",
            "Nro. de terminal: 7452\n",
            "Nro. de lote: 112\n",
            "Ingrese ref. de la tarjeta (1eros 3 dígitos): 6678\n",
            "Medio de pago: Visa QR\n",
            "\n",
            "\n",
            "Buenos días. Se solicita cambiar el medio de pago de la boleta nro. B395-1221221 con el importe de 58.2 que fue cancelado con efectivo, ya que se cobró por Izipay pero no ingresó en RMS.  \n",
            "Esto sucedió en:\n",
            "\n",
            "- Terminal: 7452\n",
            "- Lote: 112\n",
            "- Ref: 6678\n",
            "- Medio de pago: Visa QR\n",
            "  Se adjuntan comprobantes del mismo. Gracias! \n",
            "\n",
            "\n",
            "Copiar y pegar este texto en el ticket a sistemas.\n"
          ]
        }
      ]
    },
    {
      "cell_type": "code",
      "source": [],
      "metadata": {
        "id": "iyPOrjyadYla"
      },
      "execution_count": null,
      "outputs": []
    }
  ]
}